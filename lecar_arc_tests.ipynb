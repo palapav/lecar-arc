{
 "cells": [
  {
   "cell_type": "code",
   "execution_count": 16,
   "metadata": {},
   "outputs": [
    {
     "data": {
      "text/plain": [
       "<module 'lecar' from '/Users/aditya/Documents/lecar-arc/lecar.py'>"
      ]
     },
     "execution_count": 16,
     "metadata": {},
     "output_type": "execute_result"
    }
   ],
   "source": [
    "import importlib\n",
    "import arccache\n",
    "import lecar\n",
    "import random\n",
    "# need to call these if made changes to python files\n",
    "importlib.reload(arccache)\n",
    "importlib.reload(lecar)"
   ]
  },
  {
   "cell_type": "code",
   "execution_count": 24,
   "metadata": {},
   "outputs": [
    {
     "name": "stdout",
     "output_type": "stream",
     "text": [
      "Hit rate for ARC: 0.99\n",
      "Hit rate for LeCaR: 0.99\n"
     ]
    }
   ],
   "source": [
    "from lecar import LeCaR\n",
    "from arccache import ARCCache\n",
    "\n",
    "CACHE_SIZE = 50\n",
    "NUM_REQUESTS = 5000\n",
    "KNOWN_SET = 100000\n",
    "WORKING_SET_SIZE = 50\n",
    "arc_cache_hits = 0\n",
    "lecar_cache_hits = 0\n",
    "\n",
    "lecar_cache = LeCaR(CACHE_SIZE)\n",
    "arc_cache = ARCCache(CACHE_SIZE)\n",
    "working_set = random.sample(list(range(1, KNOWN_SET+1)), k=WORKING_SET_SIZE)\n",
    "for i in range(NUM_REQUESTS):\n",
    "    # print(f\"Iteration:{i}\")\n",
    "    # print(f\"LRU cache numbers:{lecar_cache.lru.keys()}\")\n",
    "    rand_number = random.choice(working_set)\n",
    "    lecar_found = lecar_cache.request(rand_number)\n",
    "    if lecar_found: lecar_cache_hits +=1\n",
    "    arc_found = arc_cache.request(rand_number)\n",
    "    if arc_found: arc_cache_hits += 1\n",
    "\n",
    "\n",
    "print(f\"Hit rate for ARC: {arc_cache_hits/NUM_REQUESTS}\")\n",
    "print(f\"Hit rate for LeCaR: {lecar_cache_hits/NUM_REQUESTS}\")"
   ]
  },
  {
   "cell_type": "code",
   "execution_count": 74,
   "metadata": {},
   "outputs": [],
   "source": [
    "import pandas as pd\n",
    "\n",
    "df = pd.read_csv(\"azurefunctions-accesses-2020.csv.bz2\")\n",
    "df[\"AnonBlobName\"].to_csv(\"requests.txt\", index=False, header=False)"
   ]
  },
  {
   "cell_type": "code",
   "execution_count": 19,
   "metadata": {},
   "outputs": [
    {
     "name": "stdout",
     "output_type": "stream",
     "text": [
      "ARC Cache Stats: 105407 hits out of 146704 requests. Hit-rate = 71.85%\n",
      "LeCaR Cache Stats: 101822 hits out of 146704 requests. Hit-rate = 69.41%\n"
     ]
    }
   ],
   "source": [
    "\n",
    "from lecar import LeCaR\n",
    "from arccache import ARCCache\n",
    "with open(\"requests.txt\", 'r') as f:\n",
    "    requests = [line.rstrip('\\n') for line in f.readlines() if line.endswith('\\n')]\n",
    "    NUM_REQUESTS = len(requests)\n",
    "    CACHE_SIZE = 0.001 * NUM_REQUESTS\n",
    "    lecar_cache = LeCaR(CACHE_SIZE)\n",
    "    arc_cache = ARCCache(CACHE_SIZE)\n",
    "    lecar_hits, arc_hits = 0,0\n",
    "    for iter, request in enumerate(requests):\n",
    "        # print(f\"iter: {iter}\")\n",
    "        lecar_found = lecar_cache.request(str(request))\n",
    "        # print(f\"found: {lecar_found}\")\n",
    "        if lecar_found: lecar_hits += 1\n",
    "        arc_found = arc_cache.request(str(request))\n",
    "        if arc_found: arc_hits += 1\n",
    "\n",
    "    print(f'ARC Cache Stats: {arc_hits} hits out of {NUM_REQUESTS} requests. ' +\n",
    "            f'Hit-rate = {round(arc_hits / NUM_REQUESTS * 100, 2)}%')\n",
    "    print(f'LeCaR Cache Stats: {lecar_hits} hits out of {NUM_REQUESTS} requests. ' +\n",
    "            f'Hit-rate = {round(lecar_hits / NUM_REQUESTS * 100, 2)}%')"
   ]
  }
 ],
 "metadata": {
  "kernelspec": {
   "display_name": "env",
   "language": "python",
   "name": "python3"
  },
  "language_info": {
   "codemirror_mode": {
    "name": "ipython",
    "version": 3
   },
   "file_extension": ".py",
   "mimetype": "text/x-python",
   "name": "python",
   "nbconvert_exporter": "python",
   "pygments_lexer": "ipython3",
   "version": "3.11.3"
  }
 },
 "nbformat": 4,
 "nbformat_minor": 2
}
