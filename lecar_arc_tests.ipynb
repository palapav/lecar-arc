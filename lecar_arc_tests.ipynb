{
 "cells": [
  {
   "cell_type": "code",
   "execution_count": 16,
   "metadata": {},
   "outputs": [
    {
     "data": {
      "text/plain": [
       "<module 'lecar' from '/Users/aditya/Documents/lecar-arc/lecar.py'>"
      ]
     },
     "execution_count": 16,
     "metadata": {},
     "output_type": "execute_result"
    }
   ],
   "source": [
    "import sys\n",
    "sys.path.append(\"..\")\n",
    "import importlib\n",
    "import arc\n",
    "import lecar\n",
    "import random\n",
    "# need to call these if made changes to python files\n",
    "importlib.reload(arc)\n",
    "importlib.reload(lecar)"
   ]
  },
  {
   "cell_type": "code",
   "execution_count": 1,
   "metadata": {},
   "outputs": [],
   "source": [
    "import pandas as pd\n",
    "\n",
    "df = pd.read_csv(\"azurefunctions-accesses-2020.csv.bz2\")\n",
    "df[\"AnonBlobName\"].to_csv(\"traces/azure_requests.txt\", index=False, header=False)"
   ]
  },
  {
   "cell_type": "code",
   "execution_count": null,
   "metadata": {},
   "outputs": [],
   "source": [
    "\n",
    "from lecar import LeCaR\n",
    "from arc import ARC\n",
    "with open(\"traces/azure_requests.txt\", 'r') as f:\n",
    "    requests = [line.rstrip('\\n') for line in f.readlines() if line.endswith('\\n')]\n",
    "    NUM_REQUESTS = len(requests)\n",
    "    CACHE_SIZE = 0.001 * NUM_REQUESTS\n",
    "    lecar_cache = LeCaR(CACHE_SIZE)\n",
    "    arc_cache = ARC(CACHE_SIZE)\n",
    "    lecar_hits, arc_hits = 0,0\n",
    "    for iter, request in enumerate(requests):\n",
    "        if iter % 10000 == 0:\n",
    "            print(f\"ARC HIT RATE:{arc_hits/(iter+1)}\")\n",
    "            print(f\"LeCaR HIT RATE:{lecar_hits/(iter+1)}\")\n",
    "        lecar_found = lecar_cache.request(str(request))\n",
    "        # print(f\"found: {lecar_found}\")\n",
    "        if lecar_found: lecar_hits += 1\n",
    "        arc_found = arc_cache.request(str(request))\n",
    "        if arc_found: arc_hits += 1\n",
    "\n",
    "    print(f'ARC Cache Stats: {arc_hits} hits out of {NUM_REQUESTS} requests. ' +\n",
    "            f'Hit-rate = {round(arc_hits / NUM_REQUESTS * 100, 2)}%')\n",
    "    print(f'LeCaR Cache Stats: {lecar_hits} hits out of {NUM_REQUESTS} requests. ' +\n",
    "            f'Hit-rate = {round(lecar_hits / NUM_REQUESTS * 100, 2)}%')"
   ]
  },
  {
   "cell_type": "code",
   "execution_count": 11,
   "metadata": {},
   "outputs": [
    {
     "name": "stdout",
     "output_type": "stream",
     "text": [
      "[0.98, 1.0, 2.02, 1.98, 3.99, 3.99, 7.96, 8.07, 16.12, 16.2, 61.73, 61.56, 1.03, 1.01, 2.03, 2.0, 4.04, 4.11, 8.2, 8.13, 16.2, 16.15, 63.84, 63.97, 0.98, 1.0, 2.03, 2.01, 4.14, 4.05, 8.25, 8.14, 16.36, 16.36, 64.54, 64.36]\n",
      "['syn_workload1.txt', 'syn_workload1.txt', 'syn_workload1.txt', 'syn_workload1.txt', 'syn_workload1.txt', 'syn_workload1.txt', 'syn_workload1.txt', 'syn_workload1.txt', 'syn_workload1.txt', 'syn_workload1.txt', 'syn_workload1.txt', 'syn_workload1.txt', 'syn_workload2.txt', 'syn_workload2.txt', 'syn_workload2.txt', 'syn_workload2.txt', 'syn_workload2.txt', 'syn_workload2.txt', 'syn_workload2.txt', 'syn_workload2.txt', 'syn_workload2.txt', 'syn_workload2.txt', 'syn_workload2.txt', 'syn_workload2.txt', 'syn_workload3.txt', 'syn_workload3.txt', 'syn_workload3.txt', 'syn_workload3.txt', 'syn_workload3.txt', 'syn_workload3.txt', 'syn_workload3.txt', 'syn_workload3.txt', 'syn_workload3.txt', 'syn_workload3.txt', 'syn_workload3.txt', 'syn_workload3.txt']\n"
     ]
    }
   ],
   "source": [
    "import pandas as pd\n",
    "\n",
    "# Specify the CSV file name (or path)\n",
    "csv_file = \"simulation_eval.csv\"\n",
    "\n",
    "# Read the CSV file into a DataFrame\n",
    "df = pd.read_csv(csv_file)\n",
    "\n",
    "hit_ratios = df[\"Hit Ratio\"].tolist()\n",
    "\n",
    "print(hit_ratios)\n"
   ]
  }
 ],
 "metadata": {
  "kernelspec": {
   "display_name": "env",
   "language": "python",
   "name": "python3"
  },
  "language_info": {
   "codemirror_mode": {
    "name": "ipython",
    "version": 3
   },
   "file_extension": ".py",
   "mimetype": "text/x-python",
   "name": "python",
   "nbconvert_exporter": "python",
   "pygments_lexer": "ipython3",
   "version": "3.11.3"
  }
 },
 "nbformat": 4,
 "nbformat_minor": 2
}
